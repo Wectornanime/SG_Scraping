{
 "cells": [
  {
   "cell_type": "markdown",
   "metadata": {},
   "source": [
    "# usando o tabula"
   ]
  },
  {
   "cell_type": "code",
   "execution_count": null,
   "metadata": {},
   "outputs": [],
   "source": [
    "from time import sleep\n",
    "import requests\n",
    "import pandas as pd\n",
    "from bs4 import BeautifulSoup\n",
    "from selenium import webdriver\n",
    "from selenium.webdriver.common.by import By\n",
    "from selenium.webdriver.firefox.options import Options\n",
    "import json\n",
    "import tabula\n",
    "from datetime import datetime"
   ]
  },
  {
   "cell_type": "code",
   "execution_count": null,
   "metadata": {},
   "outputs": [],
   "source": [
    "# puxar tabela\n",
    "\n",
    "# ativos\n",
    "# pdfUrl = 'https://www.gov.br/anvisa/pt-br/setorregulado/regularizacao/medicamentos/medicamentos-de-referencia/arquivos/lista-a-incluidos-050124.pdf'\n",
    "\n",
    "# excluidos\n",
    "pdfUrl = 'https://www.gov.br/anvisa/pt-br/setorregulado/regularizacao/medicamentos/medicamentos-de-referencia/arquivos/lista-a-excluidos-050124.pdf'\n",
    "\n",
    "\n",
    "pdf = tabula.read_pdf(pdfUrl, pages=\"all\", multiple_tables=False)\n",
    "table = pdf[0]"
   ]
  },
  {
   "cell_type": "code",
   "execution_count": null,
   "metadata": {},
   "outputs": [],
   "source": [
    "# corrigi o nome das colunas da tabela\n",
    "table.columns = table.iloc[0]\n",
    "\n",
    "# remove a primeira linha da tabela\n",
    "table = table[1:]"
   ]
  },
  {
   "cell_type": "code",
   "execution_count": null,
   "metadata": {},
   "outputs": [],
   "source": [
    "# mostra tabela\n",
    "display(table)"
   ]
  },
  {
   "cell_type": "code",
   "execution_count": null,
   "metadata": {},
   "outputs": [],
   "source": [
    "# verifica quantos dados estao errados\n",
    "\n",
    "sus = err = 0\n",
    "errList = []\n",
    "for row in range(0, table.shape[0]):\n",
    "    row = int(row)\n",
    "    try:\n",
    "        datetime.strptime(table.iloc[row, 6], \"%d/%m/%Y\").date()\n",
    "        sus+=1\n",
    "    except:\n",
    "        err+=1\n",
    "        errList.append(row)\n",
    "\n",
    "display(f'err: {err} // sus: {sus}')\n",
    "print('Erros encontrados nas linhas:', errList)"
   ]
  },
  {
   "cell_type": "code",
   "execution_count": null,
   "metadata": {},
   "outputs": [],
   "source": [
    "alvo = 45\n",
    "print(len(table.iloc[alvo, 3]))\n",
    "print(table.iloc[alvo, 6])\n",
    "display(table[alvo-2:alvo+2])"
   ]
  },
  {
   "cell_type": "code",
   "execution_count": null,
   "metadata": {},
   "outputs": [],
   "source": [
    "# corrigi o cado de multivaroes em uma celula (registro)\n",
    "\n",
    "for row in range(0, table.shape[0]):\n",
    "    if len(table.iloc[row, 3]) > 9:\n",
    "        regList = table.iloc[row, 3].split('\\r')\n",
    "        table.iloc[row, 3] =  regList[0]\n",
    "        regList = regList[1:]\n",
    "        nextRow = row + 1\n",
    "\n",
    "        while (len(regList) > 0):\n",
    "            for col in range(table.shape[1]-1, 2, -1):\n",
    "                if col != 3:\n",
    "                    table.iloc[nextRow, col] = table.iloc[nextRow, col-1]\n",
    "                else:\n",
    "                    table.iloc[nextRow, col] = regList[0]\n",
    "                    regList = regList[1:]\n",
    "            \n",
    "            nextRow += 1"
   ]
  },
  {
   "cell_type": "code",
   "execution_count": null,
   "metadata": {},
   "outputs": [],
   "source": [
    "row = 1\n",
    "\n",
    "for col in range(0, table.shape[1]):\n",
    "    print(table.iloc[row, col])\n",
    "\n",
    "display(table[row:row+1])"
   ]
  }
 ],
 "metadata": {
  "kernelspec": {
   "display_name": "Python 3",
   "language": "python",
   "name": "python3"
  },
  "language_info": {
   "codemirror_mode": {
    "name": "ipython",
    "version": 3
   },
   "file_extension": ".py",
   "mimetype": "text/x-python",
   "name": "python",
   "nbconvert_exporter": "python",
   "pygments_lexer": "ipython3",
   "version": "3.11.3"
  }
 },
 "nbformat": 4,
 "nbformat_minor": 2
}
