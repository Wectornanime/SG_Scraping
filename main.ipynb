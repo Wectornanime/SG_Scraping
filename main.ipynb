{
 "cells": [
  {
   "cell_type": "markdown",
   "metadata": {},
   "source": [
    "# Importacao das libs\n",
    "\n",
    "**ATENCAO:** *UTILIZE PYTHON __3.11__ OU SUPERIOR!*"
   ]
  },
  {
   "cell_type": "code",
   "execution_count": null,
   "metadata": {},
   "outputs": [],
   "source": [
    "from time import sleep\n",
    "from selenium import webdriver\n",
    "from selenium.webdriver.common.by import By\n",
    "from selenium.webdriver.firefox.options import Options\n",
    "from bs4 import BeautifulSoup\n",
    "import camelot\n",
    "from datetime import datetime"
   ]
  },
  {
   "cell_type": "markdown",
   "metadata": {},
   "source": [
    "# Puxa o endereco das tabelas"
   ]
  },
  {
   "cell_type": "code",
   "execution_count": null,
   "metadata": {},
   "outputs": [],
   "source": [
    "# url da Anvisa\n",
    "url = \"https://www.gov.br/anvisa/pt-br/setorregulado/regularizacao/medicamentos/medicamentos-de-referencia/lista-de-medicamentos-de-referencia\"\n",
    "\n",
    "# instanciando o firefox\n",
    "driver = webdriver.Firefox()\n",
    "driver.get(url)\n",
    "\n",
    "sleep(10)\n",
    "\n",
    "# buscando a lista de links\n",
    "xpath = \"//div[@id='parent-fieldname-text']//ul\"\n",
    "element = driver.find_element(By.XPATH, xpath)\n",
    "html_content = element.get_attribute('outerHTML')\n",
    "soup = BeautifulSoup(html_content, 'html.parser')\n",
    "\n",
    "# separando os links\n",
    "tableList = list()\n",
    "for el in soup.find_all(name='a'):\n",
    "    link = el.get('href')\n",
    "    if 'https' in  link:\n",
    "        tableList.append(link)\n",
    "\n",
    "# encerra o firefox\n",
    "driver.quit()\n"
   ]
  },
  {
   "cell_type": "code",
   "execution_count": null,
   "metadata": {},
   "outputs": [],
   "source": [
    "# para conferir a lista com o endereco das tabelas\n",
    "tableList"
   ]
  },
  {
   "cell_type": "markdown",
   "metadata": {},
   "source": [
    "# Define as funcoes usados posteriormente"
   ]
  },
  {
   "cell_type": "markdown",
   "metadata": {},
   "source": [
    "### funcao destinada a filtrar a tabela"
   ]
  },
  {
   "cell_type": "code",
   "execution_count": null,
   "metadata": {},
   "outputs": [],
   "source": [
    "# filtro que funciona:\n",
    "def filterTable(temp_table):\n",
    "    for row in range(0, len(temp_table.df)):\n",
    "        if temp_table.df.at[row, 3] != '' and '/' not in temp_table.df.at[row, 3]:\n",
    "            for col in range(0, len(temp_table.df.columns)):\n",
    "                if temp_table.df.at[row, col] == '':\n",
    "                    # print(f'{temp_table.df.at[row-1, col]} {temp_table.df.at[row+1, col]}')\n",
    "                    temp_table.df.at[row,col] = f'{temp_table.df.at[row-1, col]} {temp_table.df.at[row+1, col]}'\n",
    "\n",
    "    for row in range(0, len(temp_table.df)):\n",
    "        if temp_table.df.at[row, 3] == '' or '/' in temp_table.df.at[row, 3]:\n",
    "            temp_table.df = temp_table.df.drop(index=row)\n",
    "        \n",
    "    temp_table.df = temp_table.df.reset_index(drop=True)\n",
    "    \n",
    "    return temp_table"
   ]
  },
  {
   "cell_type": "code",
   "execution_count": null,
   "metadata": {},
   "outputs": [],
   "source": [
    "# filtro novo, nao funciona\n",
    "def filterTable2(temp_table):\n",
    "    for row in range(0, len(temp_table.df)):\n",
    "        if temp_table.df.at[row, 3] == '':\n",
    "            for col in range(0, len(temp_table.df.columns)):\n",
    "                if temp_table.df.at[row, col] != '':\n",
    "                    newData = list()\n",
    "                    rw = 1\n",
    "                    while True:\n",
    "                        if temp_table.df.at[row+rw, 3] == '':\n",
    "                            rw += 1\n",
    "                        else:\n",
    "                            break\n",
    "                    for temp_row in range(0, rw+rw+1):\n",
    "                        newData.append(temp_table.df.at[temp_row, col])\n",
    "                        temp_table.df.at[temp_row, col] = ''\n",
    "                    \n",
    "                    print(' '.join(newData))\n",
    "                    temp_table.df.at[row+rw, col] = ' '.join(newData)\n",
    "    \n",
    "    return temp_table"
   ]
  },
  {
   "cell_type": "markdown",
   "metadata": {},
   "source": [
    "### funcao principal para analise das tabelas"
   ]
  },
  {
   "cell_type": "code",
   "execution_count": null,
   "metadata": {},
   "outputs": [],
   "source": [
    "def getDatasOfTable(ntable):\n",
    "    link_pdf = tableList[ntable]\n",
    "    tables = camelot.read_pdf(link_pdf, flavor='stream', pages='all', flag='text')\n",
    "\n",
    "    for pg in range(0, len(tables)):\n",
    "        table = tables[pg]\n",
    "        if pg == 0:\n",
    "            match ntable:\n",
    "                case 0:\n",
    "                    table.df = table.df[2:].reset_index(drop=True)\n",
    "                case 1:\n",
    "                    table.df = table.df[4:].reset_index(drop=True)\n",
    "                case 3:\n",
    "                    table.df = table.df[4:].reset_index(drop=True)\n",
    "\n",
    "        table = filterTable(table)\n",
    "        tables[pg].df = table.df\n",
    "\n",
    "    return tables\n"
   ]
  },
  {
   "cell_type": "markdown",
   "metadata": {},
   "source": [
    "### funcao que gera um arquivo sql de exportacao"
   ]
  },
  {
   "cell_type": "code",
   "execution_count": 13,
   "metadata": {},
   "outputs": [
    {
     "data": {
      "text/plain": [
       "'22-3-2024-21-19.sql'"
      ]
     },
     "execution_count": 13,
     "metadata": {},
     "output_type": "execute_result"
    }
   ],
   "source": [
    "# declara o nome do arquivo de exportacao\n",
    "dtn = datetime.now()\n",
    "export_file_name = f'{dtn.day}-{dtn.month}-{dtn.year}-{dtn.hour}-{dtn.minute}.sql'\n",
    "\n",
    "export_file_name"
   ]
  },
  {
   "cell_type": "code",
   "execution_count": 14,
   "metadata": {},
   "outputs": [],
   "source": [
    "def exportSQL(temp_table, status):\n",
    "    try:\n",
    "        file = open('exports/'+export_file_name, 'r', encoding='utf-8')\n",
    "        cmd = ''.join(file.readlines())\n",
    "        file.close()\n",
    "    except:\n",
    "        cmd = ''\n",
    "\n",
    "    file = open('exports/'+export_file_name, 'w', encoding='utf-8')\n",
    "\n",
    "    cmd += f\"INSERT INTO `Medicamentos` (farmaco, detentor, medicamento, concentracao, status) VALUES\\n\"\n",
    "\n",
    "    for row in range(0, len(temp_table.df)):\n",
    "        if \"'\" in temp_table.df.at[row, 0]:\n",
    "            farmaco = temp_table.df.at[row, 0].replace(\"'\", \"\")\n",
    "        else:\n",
    "            farmaco = temp_table.df.at[row, 0]\n",
    "\n",
    "        if \"'\" in temp_table.df.at[row, 1]:\n",
    "            detentor = temp_table.df.at[row, 1].replace(\"'\", \"\")\n",
    "        else:\n",
    "            detentor = temp_table.df.at[row, 1]\n",
    "\n",
    "        if \"'\" in temp_table.df.at[row, 2]:\n",
    "            medicamento = temp_table.df.at[row, 2].replace(\"'\", \"\")\n",
    "        else:\n",
    "            medicamento = temp_table.df.at[row, 2]\n",
    "\n",
    "        if \"'\" in temp_table.df.at[row, 4]:\n",
    "            concentracao = temp_table.df.at[row, 4].replace(\"'\", \"\")\n",
    "        else:\n",
    "            concentracao = temp_table.df.at[row, 4]\n",
    "\n",
    "        cmd0 = f\" ('{farmaco}', '{detentor}', '{medicamento}', '{concentracao}', '{status}')\"\n",
    "        cmd += cmd0\n",
    "        if row < len(temp_table.df)-1:\n",
    "            cmd += ',\\n'\n",
    "        else:\n",
    "            cmd += ';\\n\\n'\n",
    "    \n",
    "    file.write(str(cmd))\n",
    "    file.close()"
   ]
  },
  {
   "cell_type": "markdown",
   "metadata": {},
   "source": [
    "# Leitura das tabelas"
   ]
  },
  {
   "cell_type": "code",
   "execution_count": null,
   "metadata": {},
   "outputs": [],
   "source": [
    "# declara uma tabela\n",
    "# tabela A incluidos\n",
    "myTable = getDatasOfTable(0)"
   ]
  },
  {
   "cell_type": "code",
   "execution_count": null,
   "metadata": {},
   "outputs": [],
   "source": [
    "# exibi uma das paginas da tabela\n",
    "display(myTable[10].df)"
   ]
  },
  {
   "cell_type": "code",
   "execution_count": null,
   "metadata": {},
   "outputs": [],
   "source": [
    "exportSQL(myTable[10], 'inativo')"
   ]
  },
  {
   "cell_type": "code",
   "execution_count": null,
   "metadata": {},
   "outputs": [],
   "source": [
    "for i in range(0, 2):\n",
    "    if  i == 0:\n",
    "        sts = 'ativo'\n",
    "    else:\n",
    "        sts = 'inativo'\n",
    "\n",
    "    myTable = getDatasOfTable(i)\n",
    "    for p in  myTable:\n",
    "        exportSQL(p, sts)"
   ]
  }
 ],
 "metadata": {
  "kernelspec": {
   "display_name": "Python 3",
   "language": "python",
   "name": "python3"
  },
  "language_info": {
   "codemirror_mode": {
    "name": "ipython",
    "version": 3
   },
   "file_extension": ".py",
   "mimetype": "text/x-python",
   "name": "python",
   "nbconvert_exporter": "python",
   "pygments_lexer": "ipython3",
   "version": "3.12.2"
  }
 },
 "nbformat": 4,
 "nbformat_minor": 2
}
