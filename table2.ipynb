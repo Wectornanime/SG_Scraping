{
 "cells": [
  {
   "cell_type": "markdown",
   "metadata": {},
   "source": [
    "# usando o camelot"
   ]
  },
  {
   "cell_type": "code",
   "execution_count": null,
   "metadata": {},
   "outputs": [],
   "source": [
    "import camelot"
   ]
  },
  {
   "cell_type": "code",
   "execution_count": null,
   "metadata": {},
   "outputs": [],
   "source": [
    "# link das tabelas\n",
    "\n",
    "# ativos\n",
    "# link_pdf = 'https://www.gov.br/anvisa/pt-br/setorregulado/regularizacao/medicamentos/medicamentos-de-referencia/arquivos/lista-a-incluidos-050124.pdf'\n",
    "\n",
    "# inativos\n",
    "link_pdf = 'https://www.gov.br/anvisa/pt-br/setorregulado/regularizacao/medicamentos/medicamentos-de-referencia/arquivos/lista-a-excluidos-050124.pdf'"
   ]
  },
  {
   "cell_type": "code",
   "execution_count": null,
   "metadata": {},
   "outputs": [],
   "source": [
    "#puxa a tabela\n",
    "\n",
    "tables = camelot.read_pdf(link_pdf, flavor='stream', pages='all', flag='text')"
   ]
  },
  {
   "cell_type": "code",
   "execution_count": null,
   "metadata": {},
   "outputs": [],
   "source": [
    "#exibe a tabela (puramente estetica)\n",
    "\n",
    "pg = 0 # nº da pag\n",
    "\n",
    "table = tables[pg]\n",
    "\n",
    "df = table.df\n",
    "df.columns = tables[0].df.iloc[1]\n",
    "\n",
    "if pg == 0:\n",
    "    df = df[2:].reset_index(drop=True)\n",
    "\n",
    "\n",
    "display(df)\n"
   ]
  },
  {
   "cell_type": "code",
   "execution_count": null,
   "metadata": {},
   "outputs": [],
   "source": [
    "val = df.at[5, 'DETENTOR']\n",
    "\n",
    "print(val)"
   ]
  },
  {
   "cell_type": "code",
   "execution_count": null,
   "metadata": {},
   "outputs": [],
   "source": [
    "print(len(tables))"
   ]
  },
  {
   "cell_type": "code",
   "execution_count": null,
   "metadata": {},
   "outputs": [],
   "source": [
    "# ver todas as tabelas\n",
    "\n",
    "for pg_auto in range(0, len(tables)):\n",
    "    table_temp = tables[pg_auto]\n",
    "\n",
    "    df_temp = table_temp.df\n",
    "    df_temp.columns = tables[0].df.iloc[1]\n",
    "\n",
    "    if pg_auto == 0:\n",
    "        df_temp = df_temp[2:].reset_index(drop=True)\n",
    "\n",
    "    display(df_temp)\n"
   ]
  },
  {
   "cell_type": "code",
   "execution_count": null,
   "metadata": {},
   "outputs": [],
   "source": [
    "# trata a tabela (puxa o conteudo em si) - invalidos\n",
    "pg = 0\n",
    "\n",
    "table = tables[pg]\n",
    "\n",
    "if pg == 0:\n",
    "    table.df = table.df[4:].reset_index(drop=True)\n"
   ]
  },
  {
   "cell_type": "code",
   "execution_count": null,
   "metadata": {},
   "outputs": [],
   "source": [
    "# mostra a tabela\n",
    "\n",
    "display(table.df)"
   ]
  },
  {
   "cell_type": "code",
   "execution_count": null,
   "metadata": {},
   "outputs": [],
   "source": [
    "col = 7\n",
    "\n",
    "for row in range(0, len(table.df)):\n",
    "    if len(table.df.at[row, col]) == 0:\n",
    "        print(f'{table.df.at[row-1, col]} {table.df.at[row+1, col]}')\n",
    "        table.df.at[row, col] = f'{table.df.at[row-1, col]} {table.df.at[row+1, col]}'"
   ]
  },
  {
   "cell_type": "code",
   "execution_count": null,
   "metadata": {},
   "outputs": [],
   "source": [
    "for row in range(0, len(table.df)):\n",
    "    data_row = table.df.iloc[row].tolist()\n",
    "    if data_row.count('') > 0:\n",
    "        print(f'existe col vazia na row {row}')"
   ]
  }
 ],
 "metadata": {
  "kernelspec": {
   "display_name": "Python 3",
   "language": "python",
   "name": "python3"
  },
  "language_info": {
   "codemirror_mode": {
    "name": "ipython",
    "version": 3
   },
   "file_extension": ".py",
   "mimetype": "text/x-python",
   "name": "python",
   "nbconvert_exporter": "python",
   "pygments_lexer": "ipython3",
   "version": "3.11.3"
  }
 },
 "nbformat": 4,
 "nbformat_minor": 2
}
